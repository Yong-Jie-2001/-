{
  "nbformat": 4,
  "nbformat_minor": 0,
  "metadata": {
    "colab": {
      "name": "Untitled1.ipynb",
      "provenance": [],
      "authorship_tag": "ABX9TyOdGw41RCXjK8xx5SHW81yU",
      "include_colab_link": true
    },
    "kernelspec": {
      "name": "python3",
      "display_name": "Python 3"
    }
  },
  "cells": [
    {
      "cell_type": "markdown",
      "metadata": {
        "id": "view-in-github",
        "colab_type": "text"
      },
      "source": [
        "<a href=\"https://colab.research.google.com/github/Yong-Jie-2001/2020-CSIE/blob/main/Untitled1.ipynb\" target=\"_parent\"><img src=\"https://colab.research.google.com/assets/colab-badge.svg\" alt=\"Open In Colab\"/></a>"
      ]
    },
    {
      "cell_type": "markdown",
      "metadata": {
        "id": "ed8-Ke6ornNH"
      },
      "source": [
        "1.\r\n",
        "#!/usr/bin/python3\r\n",
        "________(\"Hello, Python!\")\r\n",
        "\r\n",
        "(A) print   (B) printf   (C) printline   (D) printn"
      ]
    },
    {
      "cell_type": "code",
      "metadata": {
        "colab": {
          "base_uri": "https://localhost:8080/"
        },
        "id": "-nQOPhBrr1WF",
        "outputId": "9f39fd79-9d04-43a2-b697-1ab4b19f4ab6"
      },
      "source": [
        "print(\"Hello, Python!\")"
      ],
      "execution_count": 4,
      "outputs": [
        {
          "output_type": "stream",
          "text": [
            "Hello, Python!\n"
          ],
          "name": "stdout"
        }
      ]
    },
    {
      "cell_type": "markdown",
      "metadata": {
        "id": "s8DNHAynuIE6"
      },
      "source": [
        "2.\r\n",
        "#!/usr/bin/python3\r\n",
        "__print(\"Hello, Python!\")\r\n",
        "\r\n",
        "(A)\t/   (B) -   (C) #   (D) <!-->"
      ]
    },
    {
      "cell_type": "code",
      "metadata": {
        "colab": {
          "base_uri": "https://localhost:8080/"
        },
        "id": "pqfb1-FpsP48",
        "outputId": "3a0d54f5-549d-48c8-e825-016aaf69f58c"
      },
      "source": [
        "/print(\"Hello, Python!\") "
      ],
      "execution_count": 17,
      "outputs": [
        {
          "output_type": "stream",
          "text": [
            "Hello,, Python!\n"
          ],
          "name": "stdout"
        }
      ]
    },
    {
      "cell_type": "markdown",
      "metadata": {
        "id": "bV-J5ch4skf2"
      },
      "source": [
        "3.\r\n",
        "#!/usr/bin/python3\r\n",
        "(1)______ = “(2)______”\r\n",
        "\r\n",
        "(A) (1)ksu，(2)school    (B) (1) school，(2) ksu  \r\n",
        "(C) (1)”ksu”，(2)school   (D) (1)ksu，(2)”school” "
      ]
    },
    {
      "cell_type": "code",
      "metadata": {
        "id": "PWGzacWEum7O"
      },
      "source": [
        "school= \"ksu\" "
      ],
      "execution_count": 44,
      "outputs": []
    },
    {
      "cell_type": "markdown",
      "metadata": {
        "id": "zgvYjeOJvOlq"
      },
      "source": [
        "#!/usr/bin/python3\r\n",
        "y = 65535\r\n",
        "\r\n",
        "print(______(y))\r\n",
        "\r\n",
        "(A) str   (B) sum   (C) int   (D)type"
      ]
    },
    {
      "cell_type": "code",
      "metadata": {
        "colab": {
          "base_uri": "https://localhost:8080/"
        },
        "id": "G2I-CF9-wdXn",
        "outputId": "48964cdc-bcdb-488a-cf4d-2c0ddaced2fe"
      },
      "source": [
        "print(type(65535))"
      ],
      "execution_count": 38,
      "outputs": [
        {
          "output_type": "stream",
          "text": [
            "<class 'int'>\n"
          ],
          "name": "stdout"
        }
      ]
    }
  ]
}